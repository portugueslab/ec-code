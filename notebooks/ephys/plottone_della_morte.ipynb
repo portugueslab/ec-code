{
 "cells": [
  {
   "cell_type": "code",
   "execution_count": null,
   "metadata": {},
   "outputs": [],
   "source": [
    "%matplotlib widget\n",
    "\n",
    "from pathlib import Path\n",
    "\n",
    "import flammkuchen as fl\n",
    "import numpy as np\n",
    "import pandas as pd\n",
    "import seaborn as sns\n",
    "from ec_code.file_utils import get_dataset_location\n",
    "from ec_code.phy_tools.utilities import bouts_from_twitches, nanzscore\n",
    "from ec_code.phy_tools.utilities.plotting import exp_plot, get_xy\n",
    "from ec_code.phy_tools.utilities.spikes_detection import raster_on_evts\n",
    "from matplotlib import pyplot as plt\n",
    "from mpl_toolkits.axes_grid1.inset_locator import inset_axes\n",
    "\n",
    "sns.set(style=\"ticks\", palette=\"deep\")\n",
    "from numba import jit\n",
    "\n",
    "cols = sns.color_palette()"
   ]
  },
  {
   "cell_type": "code",
   "execution_count": null,
   "metadata": {},
   "outputs": [],
   "source": [
    "data_folder = get_dataset_location(\"ephys\")\n",
    "data_collection = fl.load(data_folder / \"all_pooled_data.hdf5\")"
   ]
  },
  {
   "cell_type": "code",
   "execution_count": null,
   "metadata": {},
   "outputs": [],
   "source": [
    "pre_int_sec = 10\n",
    "post_int_sec = 10\n",
    "raster_collection = []\n",
    "\n",
    "for data in data_collection:\n",
    "    raster = dict()\n",
    "    for session in data.keys():\n",
    "        raster[session] = None\n",
    "        if data[session] is not None:\n",
    "            spikes = data[session][\"spk_idxs\"]\n",
    "            twitches = data[session][\"twc_idxs\"]\n",
    "            fn = data[session][\"fn\"]\n",
    "            try:\n",
    "                ons, offs = bouts_from_twitches(twitches, sort=True)\n",
    "\n",
    "                raster_spk = raster_on_evts(\n",
    "                    spikes, ons, fn=fn, pre_int=pre_int_sec, post_int=post_int_sec\n",
    "                )\n",
    "                raster_twc = raster_on_evts(\n",
    "                    twitches, ons, fn=fn, pre_int=pre_int_sec, post_int=post_int_sec\n",
    "                )\n",
    "                raster_spk_shuf = raster_on_evts(\n",
    "                    spikes,\n",
    "                    np.random.randint(0, spikes[-1], len(ons)),\n",
    "                    fn=fn,\n",
    "                    pre_int=pre_int_sec,\n",
    "                    post_int=post_int_sec,\n",
    "                )\n",
    "                raster_spk_twc = raster_on_evts(\n",
    "                    spikes,\n",
    "                    twitches,\n",
    "                    fn=8333.3,\n",
    "                    pre_int=pre_int_sec,\n",
    "                    post_int=post_int_sec,\n",
    "                )\n",
    "                raster_twc_twc = raster_on_evts(\n",
    "                    twitches,\n",
    "                    twitches,\n",
    "                    fn=8333.3,\n",
    "                    pre_int=pre_int_sec,\n",
    "                    post_int=post_int_sec,\n",
    "                )\n",
    "\n",
    "                raster[session] = dict(\n",
    "                    spk=raster_spk,\n",
    "                    spk_shuf=raster_spk_shuf,\n",
    "                    spk_twc=raster_spk_twc,\n",
    "                    twc_twc=raster_twc_twc,\n",
    "                    twc=raster_twc,\n",
    "                    name=data[session][\"name\"],\n",
    "                )\n",
    "            except TypeError:\n",
    "                pass\n",
    "\n",
    "    raster_collection.append(raster)"
   ]
  },
  {
   "cell_type": "code",
   "execution_count": null,
   "metadata": {},
   "outputs": [],
   "source": [
    "from ec_code.phy_tools.utilities.spikes_stats import get_moments, single_plot"
   ]
  },
  {
   "cell_type": "markdown",
   "metadata": {},
   "source": [
    "# Make the plot for one cell"
   ]
  },
  {
   "cell_type": "code",
   "execution_count": null,
   "metadata": {},
   "outputs": [],
   "source": [
    "def cell_response_panel(raster):\n",
    "    fig, ax = plt.subplots(3, 3, figsize=(9, 9), gridspec_kw=dict(hspace=0.2))\n",
    "    sessions = [\"exp022\", \"blanks\", \"lag\"]\n",
    "    t = None\n",
    "    y_lab_loc = 0\n",
    "    for j, t_range in enumerate([(10, 10, 0.5), (2, 2, 0.1)]):\n",
    "        for i, s in enumerate(sessions):\n",
    "            if raster[s] is not None:\n",
    "                # spikes, pre_int_sec, post_int_sec, step, ax=None, events=None\n",
    "                single_plot(\n",
    "                    raster[s][\"spk\"],\n",
    "                    t_range[0],\n",
    "                    t_range[1],\n",
    "                    t_range[2],\n",
    "                    ax=ax[i][j],\n",
    "                    events=raster[s][\"twc\"],\n",
    "                )\n",
    "                t = raster[s][\"name\"]\n",
    "                y_lab_loc = i\n",
    "            else:\n",
    "                ax[i][j].set_visible(False)\n",
    "\n",
    "    for i, s in enumerate([\"exp022\", \"blanks\", \"lag\"]):\n",
    "        if raster[s] is not None:\n",
    "            single_plot(\n",
    "                raster[s][\"spk_twc\"],\n",
    "                0.15,\n",
    "                0.15,\n",
    "                0.01,\n",
    "                ax=ax[i][2],\n",
    "                events=raster[s][\"twc_twc\"],\n",
    "            )\n",
    "        else:\n",
    "            ax[i][2].set_visible(False)\n",
    "\n",
    "    xlabels = [\"Time from bout (s)\"] * 2 + [\"Time from twitch (s)\"]\n",
    "    for ax_i in range(3):\n",
    "        ax[ax_i][0].set_ylabel(\"{}\\n(Spikes/s)\".format(sessions[ax_i]), labelpad=30)\n",
    "        for ax_j in range(3):\n",
    "            if ax_i != y_lab_loc:\n",
    "                ax[ax_i][ax_j].set_xticklabels([])\n",
    "            else:\n",
    "                ax[ax_i][ax_j].set_xlabel(xlabels[ax_j])\n",
    "    plt.suptitle(t)\n",
    "    plt.legend()\n",
    "    sns.despine()\n",
    "    # plt.tight_layout()"
   ]
  },
  {
   "cell_type": "code",
   "execution_count": null,
   "metadata": {},
   "outputs": [],
   "source": [
    "cell_response_panel(raster_collection[28])"
   ]
  },
  {
   "cell_type": "markdown",
   "metadata": {},
   "source": [
    "# Dirtylegend"
   ]
  },
  {
   "cell_type": "code",
   "execution_count": null,
   "metadata": {},
   "outputs": [],
   "source": [
    "f = plt.figure(figsize=(3, 3))\n",
    "plt.plot(1, color=sns.color_palette()[0], alpha=0.4, label=\"tail\")\n",
    "plt.plot(1, color=sns.color_palette()[2], label=\"spikes\")\n",
    "plt.axhspan(0, 0, color=\"k\", alpha=0.1, zorder=-500, label=\"99% conf.\")\n",
    "plt.legend()\n",
    "sns.despine()"
   ]
  },
  {
   "cell_type": "code",
   "execution_count": null,
   "metadata": {},
   "outputs": [],
   "source": [
    "f.savefig(\"/Users/luigipetrucco/Desktop/legend.pdf\")"
   ]
  },
  {
   "cell_type": "markdown",
   "metadata": {},
   "source": [
    "## Export pdf with all cells"
   ]
  },
  {
   "cell_type": "code",
   "execution_count": null,
   "metadata": {},
   "outputs": [],
   "source": [
    "from matplotlib.backends.backend_pdf import PdfPages"
   ]
  },
  {
   "cell_type": "code",
   "execution_count": null,
   "metadata": {},
   "outputs": [],
   "source": [
    "with PdfPages(\"/Users/luigipetrucco/Desktop/all_cells_motor_resp.pdf\") as pdf:\n",
    "    for raster in raster_collection:\n",
    "        cell_response_panel(raster)\n",
    "        pdf.savefig()  # saves the current figure into a pdf page\n",
    "        plt.close()"
   ]
  },
  {
   "cell_type": "markdown",
   "metadata": {},
   "source": [
    "# Colorplot with all cells:"
   ]
  },
  {
   "cell_type": "code",
   "execution_count": null,
   "metadata": {},
   "outputs": [],
   "source": [
    "pre_int_sec = 10\n",
    "post_int_sec = 10\n",
    "CONF_INT_COEF = 1.96\n",
    "\n",
    "pooled_spk = [\n",
    "    raster[\"exp022\"][\"spk\"]\n",
    "    for raster in raster_collection\n",
    "    if raster[\"exp022\"] is not None\n",
    "]\n",
    "pooled_bouts = [\n",
    "    raster[\"exp022\"][\"twc\"]\n",
    "    for raster in raster_collection\n",
    "    if raster[\"exp022\"] is not None\n",
    "]"
   ]
  },
  {
   "cell_type": "code",
   "execution_count": null,
   "metadata": {},
   "outputs": [],
   "source": [
    "pre_int_sec = 10\n",
    "post_int_sec = 10\n",
    "step = 0.5\n",
    "hst_arr = np.arange(-pre_int_sec, post_int_sec, step)\n",
    "histograms_10s = np.array(\n",
    "    [nanzscore(np.histogram(p[:, 0].flatten() / fn, hst_arr)[0]) for p in pooled_spk]\n",
    ")\n",
    "histograms_10s_twc = np.array(\n",
    "    [nanzscore(np.histogram(p[:, 0].flatten() / fn, hst_arr)[0]) for p in pooled_bouts]\n",
    ")\n",
    "# histograms_10s[np.abs(histograms_10s) < CONF_INT_COEF] = 0\n",
    "\n",
    "\n",
    "pre_int_sec = 2\n",
    "post_int_sec = 2\n",
    "step = 0.1\n",
    "hst_arr = np.arange(-pre_int_sec, post_int_sec, step)\n",
    "histograms_2s = np.array(\n",
    "    [nanzscore(np.histogram(p[:, 0].flatten() / fn, hst_arr)[0]) for p in pooled_spk]\n",
    ")\n",
    "histograms_2s_twc = np.array(\n",
    "    [nanzscore(np.histogram(p[:, 0].flatten() / fn, hst_arr)[0]) for p in pooled_bouts]\n",
    ")\n",
    "# histograms_2s[np.abs(histograms_2s) < CONF_INT_COEF] = 0"
   ]
  },
  {
   "cell_type": "code",
   "execution_count": null,
   "metadata": {},
   "outputs": [],
   "source": [
    "f = plt.figure()\n",
    "i_sort = 20\n",
    "\n",
    "ax10_im = f.add_axes((0.1, 0.3, 0.35, 0.4))\n",
    "# plt.subplot(1,2,1)\n",
    "ax10_im.imshow(\n",
    "    histograms_10s[np.argsort(histograms_10s[:, i_sort]), :],\n",
    "    cmap=\"RdBu_r\",\n",
    "    vmin=-3,\n",
    "    vmax=3,\n",
    "    aspect=\"auto\",\n",
    ")\n",
    "# ax10_im.set_yticks([])\n",
    "ax10_im.set_xticks(np.arange(0, histograms_10s.shape[1], 10))\n",
    "ax10_im.set_xticklabels(np.arange(0, histograms_10s.shape[1] + 5, 10) / 2 - 10)\n",
    "ax10_im.set_ylabel(\"Cell (sorted on motor resp.)\")\n",
    "ax10_im.set_xlabel(\"Time from bout (s)\")\n",
    "\n",
    "ax10_bt = f.add_axes((0.1, 0.71, 0.35, 0.15))\n",
    "ax10_bt.step(\n",
    "    np.arange(histograms_10s_twc.shape[1]), np.mean(histograms_10s_twc, 0), alpha=0.4\n",
    ")\n",
    "ax10_bt.set_xlim(0, histograms_2s_twc.shape[1])\n",
    "ax10_bt.axis(\"off\")\n",
    "\n",
    "ax2_im = f.add_axes((0.5, 0.3, 0.35, 0.4))\n",
    "# plt.subplot(1,2,1)\n",
    "ax2_im.imshow(\n",
    "    histograms_2s[np.argsort(histograms_2s[:, i_sort]), :],\n",
    "    cmap=\"RdBu_r\",\n",
    "    vmin=-3,\n",
    "    vmax=3,\n",
    "    aspect=\"auto\",\n",
    ")\n",
    "ax2_im.set_yticks([])\n",
    "ax2_im.set_xticks(np.arange(0, histograms_2s.shape[1], 10))\n",
    "ax2_im.set_xticklabels(np.arange(0, histograms_2s.shape[1] + 5, 10) / 10 - 2)\n",
    "\n",
    "ax2_bt = f.add_axes((0.5, 0.71, 0.35, 0.15))\n",
    "ax2_bt.step(\n",
    "    np.arange(histograms_2s_twc.shape[1]), np.mean(histograms_2s_twc, 0), alpha=0.4\n",
    ")\n",
    "ax2_bt.set_xlim(0, histograms_2s_twc.shape[1])\n",
    "ax2_bt.axis(\"off\")\n",
    "ax2_im.set_xlabel(\"Time from bout (s)\")\n",
    "sns.despine(left=True, top=True, bottom=True)"
   ]
  },
  {
   "cell_type": "code",
   "execution_count": null,
   "metadata": {},
   "outputs": [],
   "source": [
    "f.savefig(\"/Users/luigipetrucco/Desktop/summary_ephys.pdf\")"
   ]
  },
  {
   "cell_type": "code",
   "execution_count": null,
   "metadata": {},
   "outputs": [],
   "source": [
    "def cell_response_panel(raster):\n",
    "    fig, ax = plt.subplots(3, 3, figsize=(9, 9), gridspec_kw=dict(hspace=0.2))\n",
    "    sessions = [\"exp022\", \"blanks\", \"lag\"]\n",
    "    t = None\n",
    "    y_lab_loc = 0\n",
    "    for j, t_range in enumerate([(10, 10, 0.5), (2, 2, 0.1)]):\n",
    "        for i, s in enumerate(sessions):\n",
    "            if raster[s] is not None:\n",
    "                # spikes, pre_int_sec, post_int_sec, step, ax=None, events=None\n",
    "                single_plot(\n",
    "                    raster[s][\"spk\"],\n",
    "                    t_range[0],\n",
    "                    t_range[1],\n",
    "                    t_range[2],\n",
    "                    ax=ax[i][j],\n",
    "                    events=raster[s][\"twc\"],\n",
    "                )\n",
    "                t = raster[s][\"name\"]\n",
    "                y_lab_loc = i\n",
    "            else:\n",
    "                ax[i][j].set_visible(False)\n",
    "\n",
    "    for i, s in enumerate([\"exp022\", \"blanks\", \"lag\"]):\n",
    "        if raster[s] is not None:\n",
    "            single_plot(\n",
    "                raster[s][\"spk_twc\"],\n",
    "                0.15,\n",
    "                0.15,\n",
    "                0.01,\n",
    "                ax=ax[i][2],\n",
    "                events=raster[s][\"twc_twc\"],\n",
    "            )\n",
    "        else:\n",
    "            ax[i][2].set_visible(False)\n",
    "\n",
    "    xlabels = [\"Time from bout (s)\"] * 2 + [\"Time from twitch (s)\"]\n",
    "    for ax_i in range(3):\n",
    "        ax[ax_i][0].set_ylabel(\"{}\\n(Spikes/s)\".format(sessions[ax_i]), labelpad=30)\n",
    "        for ax_j in range(3):\n",
    "            if ax_i != y_lab_loc:\n",
    "                ax[ax_i][ax_j].set_xticklabels([])\n",
    "            else:\n",
    "                ax[ax_i][ax_j].set_xlabel(xlabels[ax_j])\n",
    "    plt.suptitle(t)\n",
    "    sns.despine()\n",
    "    # plt.tight_layout()"
   ]
  }
 ],
 "metadata": {
  "kernelspec": {
   "display_name": "rplab",
   "language": "python",
   "name": "rplab"
  },
  "language_info": {
   "codemirror_mode": {
    "name": "ipython",
    "version": 3
   },
   "file_extension": ".py",
   "mimetype": "text/x-python",
   "name": "python",
   "nbconvert_exporter": "python",
   "pygments_lexer": "ipython3"
  }
 },
 "nbformat": 4,
 "nbformat_minor": 4
}
