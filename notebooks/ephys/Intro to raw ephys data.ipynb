{
 "cells": [
  {
   "cell_type": "markdown",
   "id": "c91147ee-288d-4ad5-82ce-c3340995a857",
   "metadata": {},
   "source": [
    "## Look at raw ephys data"
   ]
  },
  {
   "cell_type": "code",
   "execution_count": null,
   "id": "c248a36a-4d06-457b-beb3-37b8621a6f6c",
   "metadata": {},
   "outputs": [],
   "source": [
    "%matplotlib widget\n",
    "\n",
    "import flammkuchen as fl\n",
    "import numpy as np\n",
    "from ec_code.file_utils import get_dataset_location\n",
    "from matplotlib import pyplot as plt"
   ]
  },
  {
   "cell_type": "markdown",
   "id": "962eecad-d384-4d92-810a-d1fed3ef7815",
   "metadata": {},
   "source": [
    "## `processed_spikes.h5` file"
   ]
  },
  {
   "cell_type": "code",
   "execution_count": null,
   "id": "50f1d6ca-8f05-4f1f-8502-96424526610c",
   "metadata": {},
   "outputs": [],
   "source": [
    "ds_loc = get_dataset_location(\"ephys\")\n",
    "sample_cell_id = \"19115006_f3c2morph\"\n",
    "trials_to_load = \"exp022\"\n",
    "filename = ds_loc / sample_cell_id / trials_to_load / \"processed_spikes.h5\""
   ]
  },
  {
   "cell_type": "code",
   "execution_count": null,
   "id": "6319b946-5deb-44c2-a3d0-c9b49d312f96",
   "metadata": {},
   "outputs": [],
   "source": [
    "# Print data content:\n",
    "fl.meta(filename)"
   ]
  },
  {
   "cell_type": "markdown",
   "id": "2e732a90-ba50-40a3-ae1b-996c1c1e26cc",
   "metadata": {},
   "source": [
    "### Traces"
   ]
  },
  {
   "cell_type": "code",
   "execution_count": null,
   "id": "91df94d4-4db7-4310-815c-44fabde08f3f",
   "metadata": {},
   "outputs": [],
   "source": [
    "raw_data = fl.load(filename, \"/data_dict/traces\")"
   ]
  },
  {
   "cell_type": "code",
   "execution_count": null,
   "id": "26cd3003-8a3c-41be-b458-e499088724c8",
   "metadata": {},
   "outputs": [],
   "source": [
    "select = raw_data[raw_data[\"sweep\"] == 0]\n",
    "f, axs = plt.subplots(2, 1, figsize=(6, 3), sharex=True)\n",
    "axs[0].plot(select[\"time\"], select[\"I_VR\"])\n",
    "axs[0].set(ylabel=\"I ventr. root.\")\n",
    "axs[1].plot(select[\"time\"], select[\"I_cell\"])\n",
    "axs[1].set(xlabel=\"Time (s)\", ylabel=\"I cell\")\n",
    "plt.tight_layout()"
   ]
  },
  {
   "cell_type": "markdown",
   "id": "fa1fffe8-bf81-4b11-9c02-ae00b075aa77",
   "metadata": {},
   "source": [
    "### Spikes"
   ]
  },
  {
   "cell_type": "code",
   "execution_count": null,
   "id": "03ca9011-b220-4a08-9735-2b9b015d70fa",
   "metadata": {},
   "outputs": [],
   "source": [
    "spikes_arr = fl.load(filename, \"/data_dict/spikes\")\n",
    "concat_traces = np.concatenate(\n",
    "    [\n",
    "        raw_data.loc[raw_data[\"sweep\"] == i, \"I_cell\"]\n",
    "        for i in range(raw_data[\"sweep\"].max() + 1)\n",
    "    ]\n",
    ")"
   ]
  },
  {
   "cell_type": "code",
   "execution_count": null,
   "id": "1a2ce4c1-078e-4e89-906a-b17c6a4e3891",
   "metadata": {},
   "outputs": [],
   "source": [
    "plt.figure(figsize=(6, 1.5))\n",
    "plt.plot(concat_traces)\n",
    "plt.scatter(spikes_arr, concat_traces[spikes_arr], c=\"C1\", zorder=100)\n",
    "plt.xlim(spikes_arr[-10], spikes_arr[-1])\n",
    "plt.tight_layout()"
   ]
  },
  {
   "cell_type": "markdown",
   "id": "e2a42e67-294f-41d2-ac5c-c032ad3435c7",
   "metadata": {},
   "source": [
    "### Tail twitches"
   ]
  },
  {
   "cell_type": "code",
   "execution_count": null,
   "id": "0984c228-6f31-4433-8837-6c2e68de3783",
   "metadata": {},
   "outputs": [],
   "source": [
    "spikes_arr = fl.load(filename, \"/data_dict/twitches\")\n",
    "concat_traces = np.concatenate(\n",
    "    [\n",
    "        raw_data.loc[raw_data[\"sweep\"] == i, \"I_VR\"]\n",
    "        for i in range(raw_data[\"sweep\"].max() + 1)\n",
    "    ]\n",
    ")"
   ]
  },
  {
   "cell_type": "code",
   "execution_count": null,
   "id": "ff622aff-3851-46f7-86b3-f260a78ff7c5",
   "metadata": {},
   "outputs": [],
   "source": [
    "plt.figure(figsize=(6, 1.5))\n",
    "plt.plot(concat_traces)\n",
    "plt.scatter(spikes_arr, concat_traces[spikes_arr], c=\"C1\", zorder=100)\n",
    "plt.tight_layout()"
   ]
  },
  {
   "cell_type": "markdown",
   "id": "77deb898-b5cd-4764-bc2e-b5f26311f8eb",
   "metadata": {},
   "source": [
    "### Metadata"
   ]
  },
  {
   "cell_type": "code",
   "execution_count": null,
   "id": "25f705fe-19eb-4af7-9bc9-424ca354c80a",
   "metadata": {},
   "outputs": [],
   "source": [
    "# Loading metadata info on a mac/linux could give issues, instead we can look at entries one by one\n",
    "fl.load(filename, \"/metadata/excluded\")"
   ]
  },
  {
   "cell_type": "markdown",
   "id": "e8f80e92-6c19-46c4-af9f-03cc2f3b94ec",
   "metadata": {},
   "source": [
    "## `all_pooled_data.hdf5` file"
   ]
  },
  {
   "cell_type": "code",
   "execution_count": null,
   "id": "b1f65885-4763-40dd-b33c-835d7774719a",
   "metadata": {},
   "outputs": [],
   "source": [
    "all_pooled_data = fl.load(ds_loc / \"all_pooled_data.hdf5\")"
   ]
  },
  {
   "cell_type": "code",
   "execution_count": null,
   "id": "ce699ffd-b1a2-4644-9b67-b1ed99bde926",
   "metadata": {},
   "outputs": [],
   "source": [
    "all_pooled_data[0].keys()"
   ]
  },
  {
   "cell_type": "code",
   "execution_count": null,
   "id": "f273b576-b662-4ab0-83ac-03b5b0831fcf",
   "metadata": {},
   "outputs": [],
   "source": [
    "all_pooled_data[0][\"exp022\"]"
   ]
  },
  {
   "cell_type": "code",
   "execution_count": null,
   "id": "6b19c0ae-00e3-42a6-9abc-1bec5cd43e85",
   "metadata": {},
   "outputs": [],
   "source": []
  }
 ],
 "metadata": {
  "kernelspec": {
   "display_name": "rplab",
   "language": "python",
   "name": "rplab"
  },
  "language_info": {
   "codemirror_mode": {
    "name": "ipython",
    "version": 3
   },
   "file_extension": ".py",
   "mimetype": "text/x-python",
   "name": "python",
   "nbconvert_exporter": "python",
   "pygments_lexer": "ipython3"
  }
 },
 "nbformat": 4,
 "nbformat_minor": 5
}
