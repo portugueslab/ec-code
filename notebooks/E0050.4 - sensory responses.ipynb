{
 "cells": [
  {
   "cell_type": "code",
   "execution_count": null,
   "metadata": {},
   "outputs": [],
   "source": [
    "%matplotlib widget\n",
    "%load_ext autoreload\n",
    "from ipywidgets import interact, interact_manual"
   ]
  },
  {
   "cell_type": "code",
   "execution_count": null,
   "metadata": {},
   "outputs": [],
   "source": [
    "import numpy as np\n",
    "import pandas as pd\n",
    "from pathlib import Path\n",
    "import flammkuchen as fl\n",
    "from bouter import utilities\n",
    "import local_utils\n",
    "from bouter.angles import reduce_to_pi\n",
    "from scipy.interpolate import interp1d\n",
    "from tqdm import tqdm\n",
    "\n",
    "\n",
    "from matplotlib import pyplot as plt\n",
    "import seaborn as sns\n",
    "sns.set(style=\"ticks\", palette=\"deep\")\n",
    "cols = sns.color_palette()"
   ]
  },
  {
   "cell_type": "code",
   "execution_count": null,
   "metadata": {},
   "outputs": [],
   "source": [
    "master_path = Path(r\"/Users/luigipetrucco/Google Drive/data/ECs_E50\")\n",
    "\n",
    "exp_df = fl.load(master_path / \"exp_df.h5\")\n",
    "trials_df = fl.load(master_path / \"trials_df.h5\")\n",
    "cells_df = fl.load(master_path / \"cells_df.h5\")\n",
    "trials_df = fl.load(master_path / \"trials_df.h5\")\n",
    "traces_df = fl.load(master_path / \"traces_df.h5\")\n",
    "bouts_df = fl.load(master_path / \"bouts_df.h5\")\n",
    "\n",
    "dt = 0.2\n",
    "\n",
    "# Add columns if necessary:\n",
    "for new_col in [\"forward_rel\", \"backward_rel\", \"forward_amp\", \"backward_amp\"]:\n",
    "    if new_col not in cells_df.columns:\n",
    "        cells_df[new_col] = np.nan"
   ]
  },
  {
   "cell_type": "markdown",
   "metadata": {},
   "source": [
    "# Compute all indexes"
   ]
  },
  {
   "cell_type": "code",
   "execution_count": null,
   "metadata": {},
   "outputs": [],
   "source": [
    "crop_params_dict = dict(forward=dict(pre_int_s=1, post_int_s=9),\n",
    "                        backward=dict(pre_int_s=1, post_int_s=5))\n",
    "\n",
    "wnd_pre_bout_nan_s = 0.4\n",
    "wnd_post_bout_nan_s = 6"
   ]
  },
  {
   "cell_type": "code",
   "execution_count": null,
   "metadata": {},
   "outputs": [],
   "source": [
    "# stim = \"backward\"\n",
    "amplitude_percent = 80\n",
    "\n",
    "pre_wnd_bout_nan = int(wnd_pre_bout_nan_s / dt)\n",
    "post_wnd_bout_nan = int(wnd_post_bout_nan_s / dt)\n",
    "\n",
    "for stim in [\"forward\", \"backward\"]:\n",
    "    pre_int_s = crop_params_dict[stim][\"pre_int_s\"]\n",
    "    post_int_s = crop_params_dict[stim][\"post_int_s\"]\n",
    "    \n",
    "    for fid in tqdm(exp_df.index):\n",
    "        cells_fsel = cells_df[\"fid\"] == fid # .copy()\n",
    "\n",
    "        # Traces matrix, and bout-nanned version:\n",
    "        bout_start_idxs = np.round(bouts_df.loc[bouts_df[\"fid\"] == fid, \"t_start\"] / dt).values.astype(np.int)\n",
    "\n",
    "        traces = traces_df.loc[:, cells_df[cells_fsel].index].copy()\n",
    "        traces_mat = traces.values\n",
    "        traces_mat_nanbouts = local_utils.bout_nan_traces(traces_mat, bout_start_idxs, \n",
    "                                              wnd_pre=pre_wnd_bout_nan,\n",
    "                                              wnd_post=post_wnd_bout_nan)\n",
    "        # trials:\n",
    "        ftrials_df = trials_df.loc[trials_df[\"fid\"]==fid, :]\n",
    "        # Exclude trials with a leading bout too close to stimulus onset:\n",
    "        # ftrials_df = ftrials_df.loc[np.isnan(ftrials_df[\"lead_bout_latency\"]), :]\n",
    "\n",
    "\n",
    "        start_idxs = np.round(ftrials_df.loc[ftrials_df[\"trial_type\"]==stim, \"t_start\"] / dt)\n",
    "        bout_lat_sort = np.argsort(ftrials_df.loc[ftrials_df[\"trial_type\"]==stim, \"bout_latency\"].values)\n",
    "\n",
    "        cropped_nan = utilities.crop(traces_mat_nanbouts, \n",
    "                                 start_idxs, \n",
    "                                 pre_int=int(pre_int_s / dt), \n",
    "                                 post_int=int(post_int_s / dt))\n",
    "        cropped_nan = cropped_nan[:, bout_lat_sort, :]\n",
    "        cropped_nan = cropped_nan - np.nanmean(cropped_nan[:int(pre_int_s / dt), :, :], 0)\n",
    "\n",
    "        # cells_df.loc[cells_df[\"fid\"]==fid, \"motor_rel\"] = utilities.reliability(cropped)\n",
    "        reliabilities = utilities.reliability(cropped_nan)\n",
    "\n",
    "        # Calculate mean response for all cells:\n",
    "        mean_resps = np.nanmean(cropped_nan, 1)\n",
    "\n",
    "        # Calculate amplitude of the response looking at top 20% percentile of the response\n",
    "        # (response is normalized at pre-stim onset)\n",
    "        \n",
    "        amplitudes = local_utils.max_amplitude_resp(mean_resps, \n",
    "                                                    percentile=amplitude_percent)\n",
    "        \n",
    "        cells_df.loc[cells_fsel, f\"{stim}_rel\"] = reliabilities\n",
    "        cells_df.loc[cells_fsel, f\"{stim}_amp\"] = amplitudes"
   ]
  },
  {
   "cell_type": "code",
   "execution_count": null,
   "metadata": {},
   "outputs": [],
   "source": [
    "fl.save(master_path / \"cells_df.h5\", cells_df)"
   ]
  },
  {
   "cell_type": "code",
   "execution_count": null,
   "metadata": {},
   "outputs": [],
   "source": []
  },
  {
   "cell_type": "markdown",
   "metadata": {},
   "source": [
    "# Explore"
   ]
  },
  {
   "cell_type": "code",
   "execution_count": null,
   "metadata": {},
   "outputs": [],
   "source": []
  },
  {
   "cell_type": "code",
   "execution_count": null,
   "metadata": {},
   "outputs": [],
   "source": [
    "\n",
    "def browse_cells(i=(0, len(reliability) - 1)):  \n",
    "    i = idxs[i]\n",
    "    for j, mat in enumerate([cropped, cropped_nan]):\n",
    "        ax = axs[j, 0]\n",
    "        ax.cla()\n",
    "        ax.axvline(0, zorder=-100)\n",
    "        ax.plot(np.arange(mat.shape[0])*dt-1, mat[:, :, i], linewidth=0.1, c=\"k\")\n",
    "        ax.plot(np.arange(mat.shape[0])*dt-1, np.nanmean(mat[:, :, i], 1), linewidth=2, c=\"r\")\n",
    "        ax.set_ylim(-1, 2.5)\n",
    "        sns.despine()\n",
    "        ax.set_xlabel(\"Time from bout (s)\")\n",
    "\n",
    "        ax = axs[j, 1]\n",
    "        ax.imshow(mat[:, :, i].T, aspect=\"auto\", vmin=-1, vmax=2.5)\n",
    "    \n",
    "    axs[0, 0].set_title(f\"{i}, {reliability[i]}\")\n",
    "\n",
    "f, axs = plt.subplots(2,2, figsize=(9, 8))\n",
    "interact(browse_cells)"
   ]
  },
  {
   "cell_type": "code",
   "execution_count": null,
   "metadata": {},
   "outputs": [],
   "source": [
    "cells_df[\"genotype\"] = cells_df[\"fid\"].map(exp_df[\"genotype\"])"
   ]
  },
  {
   "cell_type": "code",
   "execution_count": null,
   "metadata": {},
   "outputs": [],
   "source": [
    "for d in [\"forward\", \"backward\"]:\n",
    "    plt.figure()\n",
    "    plt.title(d + \" reliability\")\n",
    "    sns.violinplot(data=cells_df, x=\"genotype\", hue=\"genotype\", y=f\"{d}_rel\", s=1)\n",
    "    \n",
    "    plt.figure()\n",
    "    plt.title(d)\n",
    "    sns.violinplot(data=cells_df.loc[cells_df[f\"{d}_rel\"] > 0.1, :], x=\"genotype\", hue=\"genotype\", y=f\"{d}_amp\", s=1)\n",
    "    # sns.swarmplot(data=cells_df.loc[cells_df[f\"{d}_rel\"] > 0.05, :], x=\"genotype\", hue=\"genotype\", y=f\"{d}_amp\", s=1)"
   ]
  },
  {
   "cell_type": "code",
   "execution_count": null,
   "metadata": {},
   "outputs": [],
   "source": [
    "reliability = utilities.reliability(cropped)"
   ]
  },
  {
   "cell_type": "code",
   "execution_count": null,
   "metadata": {},
   "outputs": [],
   "source": [
    "cells_df"
   ]
  },
  {
   "cell_type": "code",
   "execution_count": null,
   "metadata": {},
   "outputs": [],
   "source": []
  },
  {
   "cell_type": "code",
   "execution_count": null,
   "metadata": {},
   "outputs": [],
   "source": [
    "fid"
   ]
  },
  {
   "cell_type": "code",
   "execution_count": null,
   "metadata": {},
   "outputs": [],
   "source": []
  }
 ],
 "metadata": {
  "kernelspec": {
   "display_name": "rplab",
   "language": "python",
   "name": "rplab"
  },
  "language_info": {
   "codemirror_mode": {
    "name": "ipython",
    "version": 3
   },
   "file_extension": ".py",
   "mimetype": "text/x-python",
   "name": "python",
   "nbconvert_exporter": "python",
   "pygments_lexer": "ipython3"
  }
 },
 "nbformat": 4,
 "nbformat_minor": 4
}
