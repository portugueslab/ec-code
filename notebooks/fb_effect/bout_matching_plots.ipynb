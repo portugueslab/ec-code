{
 "cells": [
  {
   "cell_type": "markdown",
   "id": "0bb19a26-5fa8-4a99-a05a-8f7d194482ed",
   "metadata": {},
   "source": [
    "# Visualize the matching procedure\n",
    "\n",
    "This notebook run after having added the \"matched\" column to the bouts dataframe"
   ]
  },
  {
   "cell_type": "code",
   "execution_count": null,
   "id": "2ee1ea9e-ba74-4bc1-8b0f-b0c013499835",
   "metadata": {},
   "outputs": [],
   "source": [
    "%matplotlib widget\n",
    "from pathlib import Path\n",
    "\n",
    "import flammkuchen as fl\n",
    "import numpy as np\n",
    "from ec_code.analysis_utils import crop_trace\n",
    "from ec_code.file_utils import get_dataset_location\n",
    "\n",
    "# from ec_code.plotting_utils import *\n",
    "from matplotlib import pyplot as plt\n",
    "\n",
    "master_path = get_dataset_location(\"fb_effect\")\n",
    "\n",
    "# Load dataframes:\n",
    "exp_df = fl.load(master_path / \"exp_df.h5\")\n",
    "bouts_df = fl.load(master_path / \"bouts_df.h5\")"
   ]
  },
  {
   "cell_type": "code",
   "execution_count": null,
   "id": "3426a073-4399-4ed8-bc5d-3de6d5fe990a",
   "metadata": {},
   "outputs": [],
   "source": [
    "# Plot parameters:\n",
    "dt = 0.2  # dt of the imaging #TODO have this in exp dictionary\n",
    "PRE_INT_S = 1  # time before bout for the crop, secs\n",
    "POST_INT_S = 3  # time after the bout for the crop, secs\n",
    "\n",
    "# Just an example fish:\n",
    "fid = exp_df.index[6]"
   ]
  },
  {
   "cell_type": "code",
   "execution_count": null,
   "id": "dad97769-bdc0-4bce-974b-513cbb0dffc1",
   "metadata": {},
   "outputs": [],
   "source": [
    "fish_bouts = bouts_df.loc[bouts_df[\"fid\"] == fid, :].copy()\n",
    "timepoints = fish_bouts[\"t_start\"]\n",
    "\n",
    "beh_trace = fl.load(master_path / \"resamp_beh_dict.h5\", f\"/{fid}\")\n",
    "dt_beh = np.diff(beh_trace.index[:5]).mean()\n",
    "bt_crop_be = crop_trace(\n",
    "    beh_trace[\"vigor\"].values,\n",
    "    timepoints,\n",
    "    dt_beh,\n",
    "    PRE_INT_S,\n",
    "    POST_INT_S,\n",
    "    normalize=False,\n",
    ")"
   ]
  },
  {
   "cell_type": "code",
   "execution_count": null,
   "id": "e933be27-838e-4e82-b6c8-24a39a3cf9da",
   "metadata": {},
   "outputs": [],
   "source": [
    "for selection in \"all\", \"matched\":\n",
    "    f, axs = plt.subplots(1, 2, figsize=(4, 2), tight_layout=True)\n",
    "\n",
    "    for ax, gain in zip(axs, [\"g0\", \"g1\"]):\n",
    "        # Select bouts of this gain:\n",
    "        selection_arr = fish_bouts[gain]\n",
    "\n",
    "        # If required, select only matched bouts:\n",
    "        if selection == \"matched\":\n",
    "            selection_arr = selection_arr & fish_bouts[\"matched\"]\n",
    "\n",
    "        # Sort by duration:\n",
    "        sel_bouts = fish_bouts[selection_arr]\n",
    "        sort_idxs = np.argsort(sel_bouts[\"duration\"])\n",
    "\n",
    "        # Select entries in the cropped matrix:\n",
    "        sel_crops = bt_crop_be[:, selection_arr]\n",
    "\n",
    "        # plot\n",
    "        ax.imshow(\n",
    "            sel_crops[:, sort_idxs].T,\n",
    "            aspect=\"auto\",\n",
    "            vmin=0,\n",
    "            vmax=0.4,\n",
    "            extent=[-PRE_INT_S, POST_INT_S, 0, sel_crops.shape[1]],\n",
    "            cmap=\"gray_r\",\n",
    "        )\n",
    "        ax.set(xlabel=\"Time from bout (s)\")\n",
    "    plt.suptitle(f\"{fid} ({selection} bouts)\", fontsize=10)"
   ]
  }
 ],
 "metadata": {
  "kernelspec": {
   "display_name": "rplab",
   "language": "python",
   "name": "rplab"
  },
  "language_info": {
   "codemirror_mode": {
    "name": "ipython",
    "version": 3
   },
   "file_extension": ".py",
   "mimetype": "text/x-python",
   "name": "python",
   "nbconvert_exporter": "python",
   "pygments_lexer": "ipython3"
  }
 },
 "nbformat": 4,
 "nbformat_minor": 5
}
