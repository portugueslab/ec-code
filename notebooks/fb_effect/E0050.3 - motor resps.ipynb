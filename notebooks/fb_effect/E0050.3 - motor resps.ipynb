{
 "cells": [
  {
   "cell_type": "code",
   "execution_count": null,
   "metadata": {},
   "outputs": [],
   "source": [
    "%matplotlib widget\n",
    "%load_ext autoreload\n",
    "from ipywidgets import interact, interact_manual"
   ]
  },
  {
   "cell_type": "code",
   "execution_count": null,
   "metadata": {},
   "outputs": [],
   "source": [
    "from pathlib import Path\n",
    "\n",
    "import flammkuchen as fl\n",
    "import numpy as np\n",
    "import pandas as pd\n",
    "import seaborn as sns\n",
    "from bouter import bout_stats, decorators, utilities\n",
    "from bouter.angles import reduce_to_pi\n",
    "from bouter.utilities import crop\n",
    "from ec_code.analysis_utils import bout_nan_traces, max_amplitude_resp\n",
    "from ec_code.file_utils import get_dataset_location\n",
    "from ec_code.plotting_utils import *\n",
    "from matplotlib import pyplot as plt\n",
    "from scipy.interpolate import interp1d\n",
    "from scipy.stats import ttest_ind\n",
    "from tqdm import tqdm\n",
    "\n",
    "sns.set(style=\"ticks\", palette=\"deep\")\n",
    "cols = sns.color_palette()\n",
    "\n",
    "\n",
    "def crop_trace(trace, timepoints, dt, pre_int_s, post_int_s, normalize=False):\n",
    "    \"\"\"Crop a trace given timepoints and crop interval in seconds and sampling dt.\n",
    "    \"\"\"\n",
    "    start_idxs = np.round(timepoints / dt).astype(np.int)\n",
    "    cropped = utilities.crop(\n",
    "        trace, start_idxs, pre_int=int(pre_int_s / dt), post_int=int(post_int_s / dt)\n",
    "    )\n",
    "    if normalize:\n",
    "        cropped = cropped - np.nanmean(cropped[: int(pre_int_s / dt), :], 0)\n",
    "\n",
    "    return cropped"
   ]
  },
  {
   "cell_type": "code",
   "execution_count": null,
   "metadata": {},
   "outputs": [],
   "source": [
    "master_path = get_dataset_location(\"fb_effect\")\n",
    "\n",
    "exp_df = fl.load(master_path / \"exp_df.h5\")\n",
    "trials_df = fl.load(master_path / \"trials_df.h5\")\n",
    "cells_df = fl.load(master_path / \"cells_df.h5\")\n",
    "bouts_df = fl.load(master_path / \"bouts_df.h5\")\n",
    "traces_df = fl.load(master_path / \"traces_df.h5\")"
   ]
  },
  {
   "cell_type": "code",
   "execution_count": null,
   "metadata": {},
   "outputs": [],
   "source": [
    "fid = exp_df.index[6]"
   ]
  },
  {
   "cell_type": "code",
   "execution_count": null,
   "metadata": {},
   "outputs": [],
   "source": [
    "# Analysis parameters:\n",
    "dt = 0.2  # dt of the imaging #TODO have this in exp dictionary\n",
    "pre_int_s = 2  # time before bout for the crop, secs\n",
    "post_int_s = 6  # time after the bout for the crop, secs\n",
    "amplitude_percent = 90  # percentile for the calculation of the response amplitude\n",
    "\n",
    "min_dist_s = 2\n",
    "\n",
    "# Widow for nanning out the bout artefacts\n",
    "wnd_pre_bout_nan_s = 0.2\n",
    "wnd_post_bout_nan_s = 0.2\n",
    "\n",
    "min_distance_exclusion = (bouts_df[\"after_interbout\"] > post_int_s) & (\n",
    "    bouts_df[\"inter_bout\"] > min_dist_s\n",
    ")\n",
    "\n",
    "selections_dict = dict(\n",
    "    motor=min_distance_exclusion,\n",
    "    motor_g0=min_distance_exclusion\n",
    "    & (bouts_df[\"base_vel\"] < 0)\n",
    "    & (bouts_df[\"gain\"] == 0),\n",
    "    motor_g1=min_distance_exclusion\n",
    "    & (bouts_df[\"base_vel\"] < 0)\n",
    "    & (bouts_df[\"gain\"] == 1),\n",
    "    motor_spont=min_distance_exclusion & (bouts_df[\"base_vel\"] > -10),\n",
    ")\n",
    "\n",
    "#\n",
    "for val in [\"rel\", \"amp\"]:\n",
    "    for sel in selections_dict.keys():\n",
    "        column_id = f\"{sel}_{val}\"\n",
    "        if column_id not in cells_df.columns:\n",
    "            cells_df[column_id] = np.nan\n",
    "\n",
    "\n",
    "pre_wnd_bout_nan = int(wnd_pre_bout_nan_s / dt)\n",
    "post_wnd_bout_nan = int(wnd_post_bout_nan_s / dt)\n",
    "\n",
    "# Loop over criteria for the different reliabilities:\n",
    "for selection in selections_dict.keys():\n",
    "\n",
    "    # Loop over fish:\n",
    "    for fid in tqdm(exp_df.index):\n",
    "        cells_fsel = cells_df.loc[cells_df[\"fid\"] == fid, :]  # .copy()\n",
    "        traces = traces_df.loc[:, cells_fsel.index].copy()\n",
    "\n",
    "        # Nan all bouts:\n",
    "        start_idxs = np.round(\n",
    "            bouts_df.loc[bouts_df[\"fid\"] == fid, \"t_start\"] / dt\n",
    "        ).astype(np.int)\n",
    "        traces = bout_nan_traces(\n",
    "            traces.values,\n",
    "            start_idxs,\n",
    "            wnd_pre=pre_wnd_bout_nan,\n",
    "            wnd_post=post_wnd_bout_nan,\n",
    "        )\n",
    "\n",
    "        beh_df = fl.load(master_path / \"beh_dict.h5\", f\"/{fid}\")\n",
    "        stim_df = fl.load(master_path / \"stim_dict.h5\", f\"/{fid}\")\n",
    "\n",
    "        sel_bouts = bouts_df[(bouts_df[\"fid\"] == fid) & selections_dict[selection]]\n",
    "        sel_start_idxs = np.round(sel_bouts[\"t_start\"] / dt).astype(np.int)\n",
    "\n",
    "        # Crop cell responses around bouts:\n",
    "        cropped = utilities.crop(\n",
    "            traces,\n",
    "            sel_start_idxs,\n",
    "            pre_int=int(pre_int_s / dt),\n",
    "            post_int=int(post_int_s / dt),\n",
    "        )\n",
    "\n",
    "        # Subtract pre-bout baseline:\n",
    "        cropped = cropped - np.nanmean(cropped[: int(pre_int_s / dt), :, :], 0)\n",
    "\n",
    "        # Calculate reliability indexes:\n",
    "        reliabilities = utilities.reliability(cropped)\n",
    "\n",
    "        # Calculate mean response for all cells:\n",
    "        mean_resps = np.nanmean(cropped, 1)\n",
    "\n",
    "        # Calculate amplitude of the response looking at top 20% percentile of the response\n",
    "        # (response is normalized at pre-stim onset):\n",
    "        amplitudes = max_amplitude_resp(mean_resps, percentile=amplitude_percent)\n",
    "\n",
    "        cells_df.loc[cells_fsel.index, f\"{selection}_rel\"] = reliabilities\n",
    "        cells_df.loc[cells_fsel.index, f\"{selection}_amp\"] = amplitudes\n",
    "\n",
    "    # fl.save(master_path / \"cells_df.h5\", cells_df)"
   ]
  },
  {
   "cell_type": "code",
   "execution_count": null,
   "metadata": {},
   "outputs": [],
   "source": [
    "#############################\n",
    "# Calculate ol vs cl pvalues:\n",
    "wnd_s = 2  # Window of average response over which calculate pval\n",
    "wnd = int(wnd_s / dt)\n",
    "perc_excluding_shortbouts = 20\n",
    "n_pval_intervals = 4\n",
    "step_pval_intervals = 1\n",
    "\n",
    "for i in range(step_pval_intervals):\n",
    "    cells_df[f\"pval_clol\"] = np.nan\n",
    "    cells_df[f\"int0_clol\"] = np.nan\n",
    "    cells_df[f\"int1_clol\"] = np.nan\n",
    "    # cells_df[f\"amp_cl\"] = np.nan\n",
    "    # cells_df[f\"amp_ol\"] = np.nan\n",
    "\n",
    "for fid in tqdm(exp_df.index):\n",
    "    cell_idxs = cells_df[cells_df[\"fid\"] == fid].index\n",
    "\n",
    "    sel = (bouts_df[\"fid\"] == fid) & bouts_df[\"matched\"]\n",
    "\n",
    "    # Esclude short bouts from p val calculation:\n",
    "    min_dur = np.percentile(bouts_df.loc[sel, \"duration\"], perc_excluding_shortbouts)\n",
    "    sel = sel & (bouts_df[\"duration\"] >= min_dur)\n",
    "\n",
    "    # Crop bouts:\n",
    "    timepoints = bouts_df.loc[sel, \"t_start\"]\n",
    "    cropped = crop_trace(\n",
    "        traces_df[cells_df[cells_df[\"fid\"] == fid].index].values,\n",
    "        timepoints,\n",
    "        0.2,\n",
    "        pre_int_s,\n",
    "        post_int_s,\n",
    "        normalize=True,\n",
    "    )\n",
    "\n",
    "    for n, cell_idx in enumerate(cell_idxs):\n",
    "        # Calculate p value over 4 intervals:\n",
    "        pvals = np.zeros(n_pval_intervals)\n",
    "        # amps = np.zeros(n_pval_intervals, 2)\n",
    "\n",
    "        for i in range(n_pval_intervals):\n",
    "            t_start = pre_int_s + i * step_pval_intervals\n",
    "            i_start = int(t_start / dt)\n",
    "            mean_resps = [\n",
    "                np.nanmean(\n",
    "                    cropped[i_start : i_start + wnd, bouts_df.loc[sel, \"gain\"] == g, n],\n",
    "                    0,\n",
    "                )\n",
    "                for g in range(2)\n",
    "            ]\n",
    "            pvals[i] = ttest_ind(mean_resps[0], mean_resps[1]).pvalue\n",
    "            # amps[i, :] =\n",
    "\n",
    "        best_p_idx = np.argmin(pvals)\n",
    "        best_t_start = best_p_idx * step_pval_intervals\n",
    "\n",
    "        cells_df.loc[cell_idx, f\"pval_clol\"] = pvals[best_p_idx]\n",
    "        cells_df.loc[cell_idx, f\"int0_clol\"] = best_t_start\n",
    "        cells_df.loc[cell_idx, f\"int1_clol\"] = best_t_start + wnd_s\n",
    "        # cells_df.loc[cell_idx, f\"amp_cl\"] = np.nan\n",
    "        # cells_df.loc[cell_idx, f\"amp_ol\"] = np.nan"
   ]
  },
  {
   "cell_type": "code",
   "execution_count": null,
   "metadata": {},
   "outputs": [],
   "source": [
    "fl.save(master_path / \"cells_df.h5\", cells_df)\n",
    "fl.save(master_path / \"bouts_df.h5\", bouts_df)"
   ]
  },
  {
   "cell_type": "markdown",
   "metadata": {},
   "source": [
    "# Plots"
   ]
  },
  {
   "cell_type": "code",
   "execution_count": null,
   "metadata": {},
   "outputs": [],
   "source": [
    "plt.figure()\n",
    "sns.violinplot(data=cells_df, y=\"motor_spont_rel\", x=\"genotype\")"
   ]
  },
  {
   "cell_type": "code",
   "execution_count": null,
   "metadata": {},
   "outputs": [],
   "source": [
    "plt.figure()\n",
    "sns.violinplot(data=cells_df, y=\"motor_spont_amp\", x=\"genotype\")"
   ]
  },
  {
   "cell_type": "code",
   "execution_count": null,
   "metadata": {},
   "outputs": [],
   "source": [
    "plt.figure()\n",
    "plt.scatter(cells_df[\"forward_rel\"], cells_df[\"motor_spont_rel\"], s=5)"
   ]
  },
  {
   "cell_type": "code",
   "execution_count": null,
   "metadata": {},
   "outputs": [],
   "source": [
    "import matplotlib.pyplot as plt\n",
    "import mplcursors\n",
    "import numpy as np\n",
    "\n",
    "np.random.seed(42)\n",
    "\n",
    "fig, ax = plt.subplots()\n",
    "ax.scatter(*np.random.random((2, 26)))\n",
    "ax.set_title(\"Mouse over a point\")\n",
    "\n",
    "mplcursors.cursor(hover=True)\n",
    "\n",
    "plt.show()"
   ]
  },
  {
   "cell_type": "code",
   "execution_count": null,
   "metadata": {},
   "outputs": [],
   "source": [
    "reliability = utilities.reliability(cropped)"
   ]
  },
  {
   "cell_type": "code",
   "execution_count": null,
   "metadata": {},
   "outputs": [],
   "source": [
    "def browse_cells(i=(0, len(cells) - 1)):\n",
    "    ax.cla()\n",
    "    idxs = np.argsort(reliability)\n",
    "    i = idxs[i]\n",
    "    ax.axvline(0, zorder=-100)\n",
    "    ax.plot(\n",
    "        np.arange(cropped.shape[0]) * dt - 2, cropped[:, :, i], linewidth=0.1, c=\"k\"\n",
    "    )\n",
    "    ax.plot(\n",
    "        np.arange(cropped.shape[0]) * dt - 2,\n",
    "        cropped[:, :, i].mean(1),\n",
    "        linewidth=2,\n",
    "        c=\"r\",\n",
    "    )\n",
    "    ax.set_ylim(-1, 4)\n",
    "    sns.despine()\n",
    "    ax.set_xlabel(\"Time from bout (s)\")"
   ]
  },
  {
   "cell_type": "code",
   "execution_count": null,
   "metadata": {},
   "outputs": [],
   "source": [
    "f, ax = plt.subplots()\n",
    "interact(browse_cells)"
   ]
  },
  {
   "cell_type": "code",
   "execution_count": null,
   "metadata": {},
   "outputs": [],
   "source": [
    "fid"
   ]
  },
  {
   "cell_type": "code",
   "execution_count": null,
   "metadata": {},
   "outputs": [],
   "source": []
  }
 ],
 "metadata": {
  "kernelspec": {
   "display_name": "rplab",
   "language": "python",
   "name": "rplab"
  },
  "language_info": {
   "codemirror_mode": {
    "name": "ipython",
    "version": 3
   },
   "file_extension": ".py",
   "mimetype": "text/x-python",
   "name": "python",
   "nbconvert_exporter": "python",
   "pygments_lexer": "ipython3"
  }
 },
 "nbformat": 4,
 "nbformat_minor": 4
}
