{
 "cells": [
  {
   "cell_type": "code",
   "execution_count": null,
   "metadata": {},
   "outputs": [],
   "source": [
    "%matplotlib widget\n",
    "%load_ext autoreload\n",
    "from ipywidgets import interact, interact_manual"
   ]
  },
  {
   "cell_type": "code",
   "execution_count": null,
   "metadata": {},
   "outputs": [],
   "source": [
    "import numpy as np\n",
    "import pandas as pd\n",
    "from pathlib import Path\n",
    "import flammkuchen as fl\n",
    "import local_utils\n",
    "from bouter import utilities, decorators, bout_stats\n",
    "from bouter.angles import reduce_to_pi\n",
    "from scipy.interpolate import interp1d\n",
    "from tqdm import tqdm\n",
    "\n",
    "\n",
    "from matplotlib import pyplot as plt\n",
    "import seaborn as sns\n",
    "sns.set(style=\"ticks\", palette=\"deep\")\n",
    "cols = sns.color_palette()"
   ]
  },
  {
   "cell_type": "code",
   "execution_count": null,
   "metadata": {},
   "outputs": [],
   "source": [
    "master_path = Path(r\"/Users/luigipetrucco/Google Drive/data/ECs_E50\")\n",
    "\n",
    "exp_df = fl.load(master_path / \"exp_df.h5\")\n",
    "trials_df = fl.load(master_path / \"trials_df.h5\")\n",
    "cells_df = fl.load(master_path / \"cells_df.h5\")\n",
    "bouts_df = fl.load(master_path / \"bouts_df.h5\")\n",
    "traces_df = fl.load(master_path / \"traces_df.h5\")"
   ]
  },
  {
   "cell_type": "code",
   "execution_count": null,
   "metadata": {},
   "outputs": [],
   "source": [
    "min_dist_s = 2  # Minimum distance between 2 bouts for inclusion, secs\n",
    "\n",
    "bouts_df[\"mindist_included\"] = (bouts_df[\"after_interbout\"] > min_dist_s) & (bouts_df[\"inter_bout\"] > min_dist_s)\n",
    "bouts_df[\"g0\"] = (bouts_df[\"base_vel\"] < 0) & (bouts_df[\"gain\"] == 0)\n",
    "bouts_df[\"g1\"] = (bouts_df[\"base_vel\"] < 0) & (bouts_df[\"gain\"] == 1)\n",
    "bouts_df[\"spont\"] = bouts_df[\"base_vel\"] > -10\n",
    "\n",
    "##############################################\n",
    "# Match bouts by duration & temporal proximity\n",
    "# Here we select for each fish a subset of bouts in closed and open loop \n",
    "# that had similar duration and occourred reasonable close to each other \n",
    "# in the experiment to make sure we can compare responses with and w/o visual \n",
    "# reafference.\n",
    "\n",
    "bout_length_similarity_thr = 0.05\n",
    "bout_max_timedistance = 600\n",
    "\n",
    "\n",
    "bouts_df[\"matched\"] = False\n",
    "for fid in tqdm(exp_df.index):\n",
    "    common_sel = (bouts_df[\"fid\"]==fid) & (bouts_df[\"mindist_included\"]) & ~bouts_df[\"spont\"]\n",
    "    for b in bouts_df.loc[(bouts_df[\"gain\"]==1) & common_sel].index:\n",
    "\n",
    "        time_distances = np.abs(bouts_df.loc[bouts_df[\"fid\"]==fid, \"t_start\"] - bouts_df.loc[b, \"t_start\"])\n",
    "\n",
    "        # Candidate bouts to match: gain 1, not matched yet, \n",
    "        # with minimum spacing from other bouts, and not too far in time:\n",
    "        selection = (bouts_df[\"gain\"]==0) & ~bouts_df[\"matched\"] \\\n",
    "                    & (time_distances < bout_max_timedistance) &  common_sel\n",
    "\n",
    "        # Calculate all duration differences \n",
    "        diffs = np.abs(bouts_df.loc[selection, \"duration\"] - bouts_df.loc[b, \"duration\"])\n",
    "\n",
    "        # If we have a valid candidate, match it :\n",
    "        if diffs.min() < bout_length_similarity_thr:\n",
    "            bouts_df.loc[diffs.sort_values().index[0], \"matched\"] = True\n",
    "            bouts_df.loc[b, \"matched\"] = True"
   ]
  },
  {
   "cell_type": "code",
   "execution_count": null,
   "metadata": {},
   "outputs": [],
   "source": [
    "bouts_df[bouts_df[\"matched\"] & bouts_df[\"g0\"]].groupby(\"fid\").sum()"
   ]
  },
  {
   "cell_type": "markdown",
   "metadata": {},
   "source": [
    "# Test distributions of reliability indexes"
   ]
  },
  {
   "cell_type": "code",
   "execution_count": null,
   "metadata": {},
   "outputs": [],
   "source": [
    "# Analysis parameters:\n",
    "dt = 0.2  # dt of the imaging #TODO have this in exp dictionary\n",
    "pre_int_s = 2  # time before bout for the crop, secs\n",
    "post_int_s = 4  # time after the bout for the crop, secs\n",
    "amplitude_percent = 90  # percentile for the calculation of the response amplitude"
   ]
  },
  {
   "cell_type": "code",
   "execution_count": null,
   "metadata": {},
   "outputs": [],
   "source": [
    "fid = exp_df.index[-1]\n",
    "cells_fsel = cells_df.loc[cells_df[\"fid\"]==fid, :]# .copy()\n",
    "traces = traces_df.loc[:, cells_fsel.index].copy()"
   ]
  },
  {
   "cell_type": "code",
   "execution_count": null,
   "metadata": {},
   "outputs": [],
   "source": [
    "np.random.randint(traces.shape[0])"
   ]
  },
  {
   "cell_type": "code",
   "execution_count": null,
   "metadata": {},
   "outputs": [],
   "source": [
    "fid = exp_df.index[-1]\n",
    "cells_fsel = cells_df.loc[cells_df[\"fid\"]==fid, :]# .copy()\n",
    "traces = traces_df.loc[:, cells_fsel.index].copy()\n",
    "\n",
    "n_reps = 20\n",
    "n_tests = 20\n",
    "all_shuf = np.zeros((n_reps, n_tests, traces.shape[1]))\n",
    "for j in tqdm(range(n_reps)):\n",
    "    for i in range(n_tests):\n",
    "\n",
    "        sel_start_idxs = np.random.randint(0, traces.shape[0], (i+1)*10)\n",
    "\n",
    "        # Crop cell responses around bouts:\n",
    "        cropped = utilities.crop(traces, \n",
    "                                 sel_start_idxs, \n",
    "                                 pre_int=int(pre_int_s / dt), \n",
    "                                 post_int=int(post_int_s / dt))\n",
    "\n",
    "        all_shuf[j, i, :] = utilities.reliability(cropped)"
   ]
  },
  {
   "cell_type": "code",
   "execution_count": null,
   "metadata": {},
   "outputs": [],
   "source": [
    "bins = np.arange(-0.05, 1, 0.01)\n",
    "all_hist = np.zeros((n_tests, len(bins)-1))\n",
    "for i in range(n_tests):\n",
    "    a, b = np.histogram(all_shuf[i, :], bins)\n",
    "    all_hist[i, :] = a\n"
   ]
  },
  {
   "cell_type": "code",
   "execution_count": null,
   "metadata": {},
   "outputs": [],
   "source": [
    "plt.figure(figsize=(4,3))\n",
    "for i in range(10):\n",
    "    plt.fill_between(np.arange(n_tests)*10, np.percentile(all_shuf[i, :, :], 5, axis=1), np.percentile(all_shuf[i, :, :], 95, axis=1), alpha=0.1)\n",
    "    plt.plot(np.arange(n_tests)*10, np.percentile(all_shuf[i, :, :], 50, axis=1), c=cols[i%10])\n",
    "plt.xlabel(\"number of shuffled responses\")\n",
    "plt.ylabel(\"Reliability score\")\n",
    "sns.despine()\n",
    "plt.tight_layout()"
   ]
  },
  {
   "cell_type": "code",
   "execution_count": null,
   "metadata": {},
   "outputs": [],
   "source": [
    "all_hist"
   ]
  },
  {
   "cell_type": "code",
   "execution_count": null,
   "metadata": {},
   "outputs": [],
   "source": [
    "# Analysis parameters:\n",
    "dt = 0.2  # dt of the imaging #TODO have this in exp dictionary\n",
    "pre_int_s = 2  # time before bout for the crop, secs\n",
    "post_int_s = 4  # time after the bout for the crop, secs\n",
    "amplitude_percent = 90  # percentile for the calculation of the response amplitude\n",
    "\n",
    "# Widow for nanning out the bout artefacts\n",
    "wnd_pre_bout_nan_s = 0.2\n",
    "wnd_post_bout_nan_s = 0.2\n",
    "\n",
    "min_distance_exclusion = (bouts_df[\"after_interbout\"] > post_int_s) & (bouts_df[\"inter_bout\"] > min_dist_s)\n",
    "\n",
    "selections_dict = dict(motor=min_distance_exclusion,\n",
    "                       motor_g0=min_distance_exclusion & (bouts_df[\"base_vel\"] < 0) & (bouts_df[\"gain\"] == 0),\n",
    "                       motor_g1=min_distance_exclusion & (bouts_df[\"base_vel\"] < 0) & (bouts_df[\"gain\"] == 1),\n",
    "                       motor_spont=min_distance_exclusion & (bouts_df[\"base_vel\"] > -10))\n",
    "\n",
    "# \n",
    "for val in [\"rel\", \"amp\"]:\n",
    "    for sel in selections_dict.keys():\n",
    "        column_id = f\"{sel}_{val}\"\n",
    "        if column_id not in cells_df.columns:\n",
    "            cells_df[column_id] = np.nan\n",
    "\n",
    "            \n",
    "pre_wnd_bout_nan = int(wnd_pre_bout_nan_s / dt)\n",
    "post_wnd_bout_nan = int(wnd_post_bout_nan_s / dt)\n",
    "\n",
    "# Loop over criteria for the different reliabilities:\n",
    "for selection in selections_dict.keys():\n",
    "    \n",
    "    # Loop over fish:\n",
    "    for fid in tqdm(exp_df.index):\n",
    "        cells_fsel = cells_df.loc[cells_df[\"fid\"]==fid, :]# .copy()\n",
    "        traces = traces_df.loc[:, cells_fsel.index].copy()\n",
    "        \n",
    "        # Nan all bouts:\n",
    "        start_idxs = np.round(bouts_df.loc[bouts_df[\"fid\"]==fid, \"t_start\"] / dt).astype(np.int)\n",
    "        traces = local_utils.bout_nan_traces(traces.values, start_idxs, \n",
    "                                              wnd_pre=pre_wnd_bout_nan,\n",
    "                                              wnd_post=post_wnd_bout_nan)\n",
    "\n",
    "        beh_df = fl.load(master_path / \"beh_dict.h5\", f\"/{fid}\")\n",
    "        stim_df = fl.load(master_path / \"stim_dict.h5\", f\"/{fid}\")\n",
    "\n",
    "        sel_bouts = bouts_df[(bouts_df[\"fid\"]==fid) & selections_dict[selection]]\n",
    "        sel_start_idxs = np.round(sel_bouts[\"t_start\"] / dt).astype(np.int)\n",
    "\n",
    "        # Crop cell responses around bouts:\n",
    "        cropped = utilities.crop(traces, \n",
    "                                 sel_start_idxs, \n",
    "                                 pre_int=int(pre_int_s / dt), \n",
    "                                 post_int=int(post_int_s / dt))\n",
    "\n",
    "        # Subtract pre-bout baseline:\n",
    "        cropped = cropped - np.nanmean(cropped[:int(pre_int_s / dt), :, :], 0)\n",
    "\n",
    "        # Calculate reliability indexes:\n",
    "        reliabilities = utilities.reliability(cropped)\n",
    "\n",
    "        # Calculate mean response for all cells:\n",
    "        mean_resps = np.nanmean(cropped, 1)\n",
    "\n",
    "        # Calculate amplitude of the response looking at top 20% percentile of the response\n",
    "        # (response is normalized at pre-stim onset):\n",
    "        amplitudes = local_utils.max_amplitude_resp(mean_resps, \n",
    "                                                    percentile=amplitude_percent)\n",
    "        \n",
    "        cells_df.loc[cells_fsel.index, f\"{selection}_rel\"] = reliabilities\n",
    "        cells_df.loc[cells_fsel.index, f\"{selection}_amp\"] = amplitudes\n",
    "\n",
    "    # fl.save(master_path / \"cells_df.h5\", cells_df)"
   ]
  },
  {
   "cell_type": "code",
   "execution_count": null,
   "metadata": {},
   "outputs": [],
   "source": [
    "fl.save(master_path / \"bouts_df.h5\", bouts_df)"
   ]
  },
  {
   "cell_type": "markdown",
   "metadata": {},
   "source": [
    "# Plots"
   ]
  },
  {
   "cell_type": "code",
   "execution_count": null,
   "metadata": {},
   "outputs": [],
   "source": [
    "plt.figure()\n",
    "sns.violinplot(data=cells_df, y=\"motor_spont_rel\", x=\"genotype\")"
   ]
  },
  {
   "cell_type": "code",
   "execution_count": null,
   "metadata": {},
   "outputs": [],
   "source": [
    "plt.figure()\n",
    "sns.violinplot(data=cells_df, y=\"motor_spont_amp\", x=\"genotype\")"
   ]
  },
  {
   "cell_type": "code",
   "execution_count": null,
   "metadata": {},
   "outputs": [],
   "source": [
    "plt.figure()\n",
    "plt.scatter(cells_df[\"forward_rel\"], cells_df[\"motor_spont_rel\"], s=5)"
   ]
  },
  {
   "cell_type": "code",
   "execution_count": null,
   "metadata": {},
   "outputs": [],
   "source": [
    "import matplotlib.pyplot as plt\n",
    "import numpy as np\n",
    "import mplcursors\n",
    "np.random.seed(42)\n",
    "\n",
    "fig, ax = plt.subplots()\n",
    "ax.scatter(*np.random.random((2, 26)))\n",
    "ax.set_title(\"Mouse over a point\")\n",
    "\n",
    "mplcursors.cursor(hover=True)\n",
    "\n",
    "plt.show()"
   ]
  },
  {
   "cell_type": "code",
   "execution_count": null,
   "metadata": {},
   "outputs": [],
   "source": [
    "reliability = utilities.reliability(cropped)"
   ]
  },
  {
   "cell_type": "code",
   "execution_count": null,
   "metadata": {},
   "outputs": [],
   "source": [
    "def browse_cells(i=(0, len(cells) - 1)):  \n",
    "    ax.cla()\n",
    "    idxs = np.argsort(reliability)\n",
    "    i = idxs[i]\n",
    "    ax.axvline(0, zorder=-100)\n",
    "    ax.plot(np.arange(cropped.shape[0])*dt-2, cropped[:, :, i], linewidth=0.1, c=\"k\")\n",
    "    ax.plot(np.arange(cropped.shape[0])*dt-2, cropped[:, :, i].mean(1), linewidth=2, c=\"r\")\n",
    "    ax.set_ylim(-1, 4)\n",
    "    sns.despine()\n",
    "    ax.set_xlabel(\"Time from bout (s)\")"
   ]
  },
  {
   "cell_type": "code",
   "execution_count": null,
   "metadata": {},
   "outputs": [],
   "source": [
    "f, ax = plt.subplots()\n",
    "interact(browse_cells)"
   ]
  },
  {
   "cell_type": "code",
   "execution_count": null,
   "metadata": {},
   "outputs": [],
   "source": [
    "fid"
   ]
  },
  {
   "cell_type": "code",
   "execution_count": null,
   "metadata": {},
   "outputs": [],
   "source": []
  }
 ],
 "metadata": {
  "kernelspec": {
   "display_name": "rplab",
   "language": "python",
   "name": "rplab"
  },
  "language_info": {
   "codemirror_mode": {
    "name": "ipython",
    "version": 3
   },
   "file_extension": ".py",
   "mimetype": "text/x-python",
   "name": "python",
   "nbconvert_exporter": "python",
   "pygments_lexer": "ipython3",
   "version": "3.8.12"
  }
 },
 "nbformat": 4,
 "nbformat_minor": 4
}
