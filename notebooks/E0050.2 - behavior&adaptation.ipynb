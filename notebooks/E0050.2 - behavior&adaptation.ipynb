{
 "cells": [
  {
   "cell_type": "markdown",
   "metadata": {},
   "source": [
    "# Check behavior and adaptation"
   ]
  },
  {
   "cell_type": "markdown",
   "metadata": {},
   "source": [
    "In this notebook, we manually check behavior quality of all experiments and input it in a column of the experiment dataframe; and we calculate an adaptation index."
   ]
  },
  {
   "cell_type": "code",
   "execution_count": null,
   "metadata": {},
   "outputs": [],
   "source": [
    "%matplotlib widget\n",
    "from ipywidgets import interact, interact_manual, widgets, VBox, HBox"
   ]
  },
  {
   "cell_type": "code",
   "execution_count": null,
   "metadata": {},
   "outputs": [],
   "source": [
    "import numpy as np\n",
    "import pandas as pd\n",
    "from pathlib import Path\n",
    "import flammkuchen as fl\n",
    "from tqdm import tqdm\n",
    "\n",
    "from matplotlib import pyplot as plt\n",
    "from bouter.angles import reduce_to_pi\n",
    "import seaborn as sns\n",
    "import local_utils\n",
    "cols = local_utils.cols\n",
    "\n",
    "sns.set(style=\"ticks\", palette=\"deep\")\n",
    "\n",
    "plt.rcParams[\"figure.constrained_layout.use\"] = True\n",
    "plt.rcParams[\"font.family\"] = \"sans-serif\"\n",
    "plt.rcParams[\"font.sans-serif\"] = [\"Libertinus Sans\"]\n",
    "plt.rcParams[\"xtick.labelsize\"] = 10\n",
    "plt.rcParams[\"ytick.labelsize\"] = 10\n",
    "plt.rcParams[\"axes.labelsize\"] = 12\n",
    "plt.rcParams[\"axes.linewidth\"] = 0.5\n",
    "plt.rcParams[\"axes.edgecolor\"] = \"0.3\"\n",
    "plt.rcParams[\"xtick.major.width\"] = 0.5\n",
    "plt.rcParams[\"ytick.major.width\"] = 0.5"
   ]
  },
  {
   "cell_type": "code",
   "execution_count": null,
   "metadata": {},
   "outputs": [],
   "source": [
    "master_path = Path(r\"/Users/luigipetrucco/Google Drive/data/ECs_E50\")\n",
    "master_path"
   ]
  },
  {
   "cell_type": "markdown",
   "metadata": {},
   "source": [
    "## Check behavior quality"
   ]
  },
  {
   "cell_type": "code",
   "execution_count": null,
   "metadata": {},
   "outputs": [],
   "source": [
    "exp_df = fl.load(master_path / \"exp_df.h5\")\n",
    "\n",
    "BEHAVIOR_DESCRIPTORS = [\"-\", \"good\", \"bad\"]\n",
    "if \"behavior\" not in exp_df.columns:\n",
    "    exp_df[\"behavior\"] = BEHAVIOR_DESCRIPTORS[1]\n",
    "\n",
    "output = widgets.Output()\n",
    "\n",
    "with output:\n",
    "    fig, ax = plt.subplots(constrained_layout=True, figsize=(10, 3))\n",
    "\n",
    "line, = ax.plot([0, 0])\n",
    "line2, = ax.plot([0, 0])\n",
    "\n",
    "ax.set_ylim(-3.5, 3.5)\n",
    "ax.set_xlim(0, 3600)\n",
    "sns.despine()\n",
    "\n",
    "fish_slider = widgets.IntSlider(\n",
    "    value=0, min=0, max=len(exp_df) - 1,\n",
    "    step=1, description='Fish n:',)\n",
    "\n",
    "behavior_buttons = widgets.ToggleButtons(\n",
    "    options=BEHAVIOR_DESCRIPTORS, description='Behavior:')\n",
    "\n",
    "def update_behavior(change):\n",
    "    fid = exp_df.index[fish_slider.value]\n",
    "    exp_df.loc[fid, \"behavior\"] = BEHAVIOR_DESCRIPTORS[change.new]\n",
    "\n",
    "def update(change):\n",
    "    \"\"\"redraw line (update plot)\"\"\"\n",
    "    fid = exp_df.index[change.new]\n",
    "    beh_log = fl.load(master_path / \"resamp_beh_dict.h5\", f\"/{fid}\")\n",
    "    b = beh_log.tail_sum\n",
    "    sel = np.abs(b) // np.pi > 0\n",
    "    b[sel] = np.mod(b[sel], np.pi) #- np.pi\n",
    "    #b = np.mod(b, np.pi) #+ ((-1)**(b // np.pi - 1)*np.pi)\n",
    "    line.set_data(beh_log.index, b)\n",
    "    line2.set_data(beh_log.index, np.abs(b) // np.pi)\n",
    "    fig.canvas.draw()\n",
    "    b_idx = BEHAVIOR_DESCRIPTORS.index(exp_df.loc[fid, \"behavior\"])\n",
    "    ax.set_title(f\"{fid}, behavior: {BEHAVIOR_DESCRIPTORS[b_idx]}\")\n",
    "    behavior_buttons.set_trait(\"index\", b_idx)\n",
    "\n",
    "# connect callbacks and traits:\n",
    "fish_slider.observe(update, 'value')\n",
    "behavior_buttons.observe(update_behavior, 'index')\n",
    "\n",
    "controls = widgets.HBox([fish_slider, behavior_buttons])\n",
    "# Hacky update:\n",
    "fish_slider.value = 1\n",
    "fish_slider.value = 0\n",
    "widgets.VBox([output, controls])"
   ]
  },
  {
   "cell_type": "code",
   "execution_count": null,
   "metadata": {},
   "outputs": [],
   "source": [
    "fl.save(master_path / \"exp_df.h5\", exp_df)"
   ]
  },
  {
   "cell_type": "markdown",
   "metadata": {},
   "source": [
    "## Check adaptation"
   ]
  },
  {
   "cell_type": "code",
   "execution_count": null,
   "metadata": {},
   "outputs": [],
   "source": [
    "from scipy.stats import ranksums, kstest, gaussian_kde\n",
    "\n",
    "bouts_df = fl.load(master_path / \"bouts_df.h5\")"
   ]
  },
  {
   "cell_type": "code",
   "execution_count": null,
   "metadata": {},
   "outputs": [],
   "source": []
  },
  {
   "cell_type": "code",
   "execution_count": null,
   "metadata": {},
   "outputs": [],
   "source": [
    "exp_df[\"adaptation\"] = np.nan\n",
    "for fid in tqdm(exp_df.index):\n",
    "    fish_bouts_df = bouts_df.loc[(bouts_df[\"duration\"]>min_dur_s) & (bouts_df[\"fid\"]==fid), [bout_param_stat, \"gain\"]]\n",
    "    g0_dur, g1_dur = [fish_bouts_df.loc[fish_bouts_df[\"gain\"]==g, bout_param_stat].values for g in [0, 1]]\n",
    "    exp_df.loc[fid, \"adaptation\"] = -np.log10(kstest(g0_dur, g1_dur).pvalue)\n",
    "    \n",
    "fl.save(master_path / \"exp_df.h5\", exp_df)"
   ]
  },
  {
   "cell_type": "markdown",
   "metadata": {},
   "source": [
    "# Motor adaptation - matching procedure plots"
   ]
  },
  {
   "cell_type": "code",
   "execution_count": null,
   "metadata": {},
   "outputs": [],
   "source": [
    "from bouter import utilities"
   ]
  },
  {
   "cell_type": "code",
   "execution_count": null,
   "metadata": {},
   "outputs": [],
   "source": [
    "exp_df = fl.load(master_path / \"exp_df.h5\")\n",
    "cells_df = fl.load(master_path / \"cells_df.h5\")\n",
    "traces_df = fl.load(master_path / \"traces_df.h5\")"
   ]
  },
  {
   "cell_type": "code",
   "execution_count": null,
   "metadata": {},
   "outputs": [],
   "source": [
    "fid = \"200828_f4_clol\""
   ]
  },
  {
   "cell_type": "code",
   "execution_count": null,
   "metadata": {},
   "outputs": [],
   "source": [
    "fish_bouts_df = bouts_df.loc[(bouts_df[\"duration\"]>min_dur_s) & (bouts_df[\"fid\"]==fid), [bout_param_stat, \"gain\", \"matched\"]]\n",
    "g0_dur, g1_dur = [fish_bouts_df.loc[fish_bouts_df[\"gain\"]==g, bout_param_stat].values for g in [0, 1]]\n",
    "g0_dur_m, g1_dur_m = [fish_bouts_df.loc[(fish_bouts_df[\"gain\"]==g) & (fish_bouts_df[\"matched\"]), \n",
    "                                        bout_param_stat].values for g in [0, 1]]\n",
    "\n",
    "fig = plt.figure(figsize=(3.5,2.5))\n",
    "x = np.arange(0, 2, 0.1)\n",
    "for i, (d, m) in enumerate(zip([g0_dur, g1_dur], [g0_dur_m, g1_dur_m])):\n",
    "    #f = gaussian_kde(d, bw_method=0.3)\n",
    "    f, bins = np.histogram(m, x)\n",
    "    #plt.fill_between((bins[:-1] + bins[1:])/2, np.zeros(len(f)), f, \n",
    "    #                 label=f\"match; gain{i}\", linewidth=0, facecolor=cols[i], alpha=0.5, step=\"mid\")\n",
    "    \n",
    "    f, bins = np.histogram(d, x)\n",
    "    plt.step((bins[:-1] + bins[1:])/2, f, \n",
    "                     label=f\"all: gain{i}\", linewidth=1, c=cols[i], alpha=0.8, where=\"mid\")\n",
    "\n",
    "sns.despine()\n",
    "plt.xlabel(\"bout duration (s)\")\n",
    "plt.ylabel(\"count\")\n",
    "plt.legend(frameon=False)\n",
    "plt.tight_layout()\n",
    "\n",
    "fig.savefig(\"/Users/luigipetrucco/Desktop/bout_nomatching.pdf\")"
   ]
  },
  {
   "cell_type": "code",
   "execution_count": null,
   "metadata": {},
   "outputs": [],
   "source": [
    "dt = 0.2\n",
    "pre_int_s = 2\n",
    "post_int_s = 6\n",
    "\n",
    "fish_bouts = bouts_df.loc[(bouts_df[\"fid\"]==fid) & bouts_df[\"mindist_included\"],\n",
    "                          :].copy()\n",
    "\n",
    "timepoints = fish_bouts[\"t_start\"]\n",
    "traces_block = traces_df[cells_df[cells_df[\"fid\"]==fid].index].values\n",
    "start_idxs = np.round(timepoints / dt).astype(np.int)\n",
    "bt_crop_f = utilities.crop(traces_block, \n",
    "                     start_idxs, \n",
    "                     pre_int=int(pre_int_s / dt), \n",
    "                     post_int=int(post_int_s / dt))\n",
    "\n",
    "mean_resps = bt_crop_f[10:40, :, :].mean(0)"
   ]
  },
  {
   "cell_type": "code",
   "execution_count": null,
   "metadata": {},
   "outputs": [],
   "source": []
  },
  {
   "cell_type": "code",
   "execution_count": null,
   "metadata": {},
   "outputs": [],
   "source": [
    "f = plt.figure(figsize=(4,3))\n",
    "i = 4\n",
    "for g in [0, 1]:\n",
    "    plt.scatter(fish_bouts.loc[(fish_bouts[\"gain\"]==g), \"duration\"], \n",
    "                mean_resps[(fish_bouts[\"gain\"]==g) , i],\n",
    "               c=cols[g], s=10, label=f\"gain {g}\")\n",
    "\n",
    "plt.ylabel(\"max dF/F (s)\")\n",
    "plt.xlabel(\"bout duration (s)\")\n",
    "plt.title(f\"cell id: {cells_df[cells_df['fid']==fid].index[i]}\")\n",
    "sns.despine()\n",
    "plt.legend(frameon=False)\n",
    "f.savefig(\"/Users/luigipetrucco/Desktop/resp_duration.pdf\")"
   ]
  },
  {
   "cell_type": "code",
   "execution_count": null,
   "metadata": {},
   "outputs": [],
   "source": [
    "mean_resps.shape"
   ]
  },
  {
   "cell_type": "code",
   "execution_count": null,
   "metadata": {},
   "outputs": [],
   "source": [
    "(fish_bouts[\"gain\"]==0).shape"
   ]
  },
  {
   "cell_type": "code",
   "execution_count": null,
   "metadata": {},
   "outputs": [],
   "source": []
  }
 ],
 "metadata": {
  "kernelspec": {
   "display_name": "rplab",
   "language": "python",
   "name": "rplab"
  },
  "language_info": {
   "codemirror_mode": {
    "name": "ipython",
    "version": 3
   },
   "file_extension": ".py",
   "mimetype": "text/x-python",
   "name": "python",
   "nbconvert_exporter": "python",
   "pygments_lexer": "ipython3",
   "version": "3.8.12"
  }
 },
 "nbformat": 4,
 "nbformat_minor": 4
}
